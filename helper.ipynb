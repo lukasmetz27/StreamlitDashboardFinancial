{
 "cells": [
  {
   "cell_type": "code",
   "execution_count": 1,
   "metadata": {},
   "outputs": [],
   "source": [
    "import pandas as  pd"
   ]
  },
  {
   "cell_type": "code",
   "execution_count": 54,
   "metadata": {},
   "outputs": [],
   "source": [
    "df = pd.read_excel(\"FinancialDataClean.xlsx\")"
   ]
  },
  {
   "cell_type": "code",
   "execution_count": 55,
   "metadata": {},
   "outputs": [
    {
     "data": {
      "text/plain": [
       "Index(['Account', 'business_unit', 'Currency', 'Year', 'Scenario', 'Jan',\n",
       "       'Feb', 'Mar', 'Apr', 'May', 'Jun', 'Jul', 'Aug', 'Sep', 'Oct', 'Nov',\n",
       "       'Dec'],\n",
       "      dtype='object')"
      ]
     },
     "execution_count": 55,
     "metadata": {},
     "output_type": "execute_result"
    }
   ],
   "source": [
    "df.columns"
   ]
  },
  {
   "cell_type": "code",
   "execution_count": 56,
   "metadata": {},
   "outputs": [],
   "source": [
    "df = df.melt(id_vars=['Account', 'business_unit', 'Currency', 'Year', 'Scenario',], value_vars=['Jan', 'Feb', 'Mar', 'Apr', 'May', 'Jun', 'Jul', 'Aug', 'Sep', 'Oct', 'Nov','Dec'],var_name=\"Month\", value_name=\"Sales\")\n",
    "df[\"Monat\"] = df.Month.replace({\"Jan\" : \"01\",\"Feb\" : \"02\",\"Mar\" : \"03\",\"Apr\" : \"04\",\"May\" : \"05\",\"Jun\" : \"06\",\"Jul\" : \"07\",\"Aug\" : \"08\",\"Sep\" : \"09\",\"Oct\" : \"10\",\"Nov\" : \"11\",\"Dec\" : \"12\"})\n",
    "df[\"JahrMonat\"] = df[\"Year\"].astype(\"str\") + df[\"Monat\"]"
   ]
  },
  {
   "cell_type": "code",
   "execution_count": 61,
   "metadata": {},
   "outputs": [
    {
     "data": {
      "text/plain": [
       "1857"
      ]
     },
     "execution_count": 61,
     "metadata": {},
     "output_type": "execute_result"
    }
   ],
   "source": [
    "\n",
    "round(df[(df[\"business_unit\"] == \"Software\") & (df[\"Account\"] == \"Sales\") & (df[\"Year\"] == 2023)].Sales.sum() / 1000000)"
   ]
  },
  {
   "cell_type": "code",
   "execution_count": 46,
   "metadata": {},
   "outputs": [],
   "source": [
    "df"
   ]
  },
  {
   "cell_type": "code",
   "execution_count": 52,
   "metadata": {},
   "outputs": [],
   "source": []
  },
  {
   "cell_type": "code",
   "execution_count": 53,
   "metadata": {},
   "outputs": [
    {
     "data": {
      "text/html": [
       "<div>\n",
       "<style scoped>\n",
       "    .dataframe tbody tr th:only-of-type {\n",
       "        vertical-align: middle;\n",
       "    }\n",
       "\n",
       "    .dataframe tbody tr th {\n",
       "        vertical-align: top;\n",
       "    }\n",
       "\n",
       "    .dataframe thead th {\n",
       "        text-align: right;\n",
       "    }\n",
       "</style>\n",
       "<table border=\"1\" class=\"dataframe\">\n",
       "  <thead>\n",
       "    <tr style=\"text-align: right;\">\n",
       "      <th></th>\n",
       "      <th>Account</th>\n",
       "      <th>business_unit</th>\n",
       "      <th>Currency</th>\n",
       "      <th>Year</th>\n",
       "      <th>Scenario</th>\n",
       "      <th>Month</th>\n",
       "      <th>Sales</th>\n",
       "      <th>Monat</th>\n",
       "      <th>JahrMonat</th>\n",
       "    </tr>\n",
       "  </thead>\n",
       "  <tbody>\n",
       "    <tr>\n",
       "      <th>0</th>\n",
       "      <td>Sales</td>\n",
       "      <td>Software</td>\n",
       "      <td>USD</td>\n",
       "      <td>2012</td>\n",
       "      <td>Actuals</td>\n",
       "      <td>Jan</td>\n",
       "      <td>90924002.0</td>\n",
       "      <td>01</td>\n",
       "      <td>201201</td>\n",
       "    </tr>\n",
       "    <tr>\n",
       "      <th>1</th>\n",
       "      <td>Cost of Goods Sold</td>\n",
       "      <td>Software</td>\n",
       "      <td>USD</td>\n",
       "      <td>2012</td>\n",
       "      <td>Actuals</td>\n",
       "      <td>Jan</td>\n",
       "      <td>-41623278.0</td>\n",
       "      <td>01</td>\n",
       "      <td>201201</td>\n",
       "    </tr>\n",
       "    <tr>\n",
       "      <th>2</th>\n",
       "      <td>Commissions Expense</td>\n",
       "      <td>Software</td>\n",
       "      <td>USD</td>\n",
       "      <td>2012</td>\n",
       "      <td>Actuals</td>\n",
       "      <td>Jan</td>\n",
       "      <td>-4454359.0</td>\n",
       "      <td>01</td>\n",
       "      <td>201201</td>\n",
       "    </tr>\n",
       "    <tr>\n",
       "      <th>3</th>\n",
       "      <td>Payroll Expense</td>\n",
       "      <td>Software</td>\n",
       "      <td>USD</td>\n",
       "      <td>2012</td>\n",
       "      <td>Actuals</td>\n",
       "      <td>Jan</td>\n",
       "      <td>-9901680.0</td>\n",
       "      <td>01</td>\n",
       "      <td>201201</td>\n",
       "    </tr>\n",
       "    <tr>\n",
       "      <th>4</th>\n",
       "      <td>Travel &amp; Entertainment Expense</td>\n",
       "      <td>Software</td>\n",
       "      <td>USD</td>\n",
       "      <td>2012</td>\n",
       "      <td>Actuals</td>\n",
       "      <td>Jan</td>\n",
       "      <td>-951255.0</td>\n",
       "      <td>01</td>\n",
       "      <td>201201</td>\n",
       "    </tr>\n",
       "  </tbody>\n",
       "</table>\n",
       "</div>"
      ],
      "text/plain": [
       "                          Account business_unit Currency  Year Scenario Month  \\\n",
       "0                           Sales      Software      USD  2012  Actuals   Jan   \n",
       "1              Cost of Goods Sold      Software      USD  2012  Actuals   Jan   \n",
       "2             Commissions Expense      Software      USD  2012  Actuals   Jan   \n",
       "3                 Payroll Expense      Software      USD  2012  Actuals   Jan   \n",
       "4  Travel & Entertainment Expense      Software      USD  2012  Actuals   Jan   \n",
       "\n",
       "        Sales Monat JahrMonat  \n",
       "0  90924002.0    01    201201  \n",
       "1 -41623278.0    01    201201  \n",
       "2  -4454359.0    01    201201  \n",
       "3  -9901680.0    01    201201  \n",
       "4   -951255.0    01    201201  "
      ]
     },
     "execution_count": 53,
     "metadata": {},
     "output_type": "execute_result"
    }
   ],
   "source": [
    "df.head()"
   ]
  },
  {
   "cell_type": "code",
   "execution_count": null,
   "metadata": {},
   "outputs": [],
   "source": []
  }
 ],
 "metadata": {
  "kernelspec": {
   "display_name": "Python 3",
   "language": "python",
   "name": "python3"
  },
  "language_info": {
   "codemirror_mode": {
    "name": "ipython",
    "version": 3
   },
   "file_extension": ".py",
   "mimetype": "text/x-python",
   "name": "python",
   "nbconvert_exporter": "python",
   "pygments_lexer": "ipython3",
   "version": "3.9.2"
  },
  "orig_nbformat": 4,
  "vscode": {
   "interpreter": {
    "hash": "aee8b7b246df8f9039afb4144a1f6fd8d2ca17a180786b69acc140d282b71a49"
   }
  }
 },
 "nbformat": 4,
 "nbformat_minor": 2
}
